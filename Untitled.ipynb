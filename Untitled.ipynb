{
 "cells": [
  {
   "cell_type": "code",
   "execution_count": 1,
   "id": "e2b8cf25-82c3-496e-b320-b4f204fec5ea",
   "metadata": {
    "tags": []
   },
   "outputs": [],
   "source": [
    "import numpy as np"
   ]
  },
  {
   "cell_type": "code",
   "execution_count": 2,
   "id": "8e377a3c-d4d8-4922-8423-a74d10e64e20",
   "metadata": {
    "tags": []
   },
   "outputs": [],
   "source": [
    "def ground_truth(z):\n",
    "    return 1 - np.sin(z)"
   ]
  },
  {
   "cell_type": "code",
   "execution_count": 6,
   "id": "4629c34e-6b6d-4268-a96a-6e49e7ac5b80",
   "metadata": {
    "tags": []
   },
   "outputs": [
    {
     "name": "stdout",
     "output_type": "stream",
     "text": [
      "1.0\n",
      "0.41221474770752686\n",
      "0.04894348370484647\n",
      "0.04894348370484647\n",
      "0.41221474770752675\n",
      "0.9999999999999999\n"
     ]
    }
   ],
   "source": [
    "for i in range(6):\n",
    "    print(ground_truth(i*0.2*np.pi))"
   ]
  },
  {
   "cell_type": "code",
   "execution_count": 10,
   "id": "c2c8ecf1-99a2-4d79-8eaf-0bde6ad46010",
   "metadata": {
    "tags": []
   },
   "outputs": [],
   "source": [
    "x0 = np.array([1/2, -1, 1]).T"
   ]
  },
  {
   "cell_type": "code",
   "execution_count": 12,
   "id": "5b36de6d-e316-490f-a70c-1abfefdaf84b",
   "metadata": {
    "tags": []
   },
   "outputs": [
    {
     "data": {
      "text/plain": [
       "(3,)"
      ]
     },
     "execution_count": 12,
     "metadata": {},
     "output_type": "execute_result"
    }
   ],
   "source": [
    "x0.shape"
   ]
  },
  {
   "cell_type": "code",
   "execution_count": null,
   "id": "631484d4-280d-42e3-b0f9-012106817f69",
   "metadata": {},
   "outputs": [],
   "source": []
  }
 ],
 "metadata": {
  "kernelspec": {
   "display_name": "Python 3 (ipykernel)",
   "language": "python",
   "name": "python3"
  },
  "language_info": {
   "codemirror_mode": {
    "name": "ipython",
    "version": 3
   },
   "file_extension": ".py",
   "mimetype": "text/x-python",
   "name": "python",
   "nbconvert_exporter": "python",
   "pygments_lexer": "ipython3",
   "version": "3.9.12"
  }
 },
 "nbformat": 4,
 "nbformat_minor": 5
}

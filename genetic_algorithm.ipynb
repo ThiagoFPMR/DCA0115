{
 "cells": [
  {
   "cell_type": "code",
   "execution_count": 119,
   "id": "4678f79d-4459-4d27-9d97-52e0bb98a5d2",
   "metadata": {
    "tags": []
   },
   "outputs": [],
   "source": [
    "from jax import random\n",
    "import jax.numpy as jnp"
   ]
  },
  {
   "cell_type": "code",
   "execution_count": 120,
   "id": "714392ec-55c2-4d70-901b-4ee4037cacaf",
   "metadata": {
    "tags": []
   },
   "outputs": [],
   "source": [
    "def z(X, Y):\n",
    "    return -X * jnp.sin(jnp.sqrt(jnp.abs(X))) - Y * jnp.sin(jnp.sqrt(jnp.abs(Y)))\n",
    "\n",
    "def r1(X, Y):\n",
    "     return jnp.power(Y - jnp.power(X, 2), 2) + jnp.power(1 - X, 2)\n",
    "    \n",
    "def rd(X, Y):\n",
    "    return 1 + r1(X, Y)"
   ]
  },
  {
   "cell_type": "code",
   "execution_count": 121,
   "id": "f62c19bb-eff6-4396-9dd3-700adf1fe916",
   "metadata": {
    "tags": []
   },
   "outputs": [],
   "source": [
    "def w37(X, Y):\n",
    "    return 2 * z(X, Y) / rd(X, Y) + jnp.exp(jnp.sin(r1(X, Y)))"
   ]
  },
  {
   "cell_type": "code",
   "execution_count": 122,
   "id": "68e9906d-f1ab-4fc9-a8ff-3cc6447ba198",
   "metadata": {
    "tags": []
   },
   "outputs": [],
   "source": [
    "n_solutions = 100\n",
    "key = random.PRNGKey(123)\n",
    "\n",
    "solutions = random.uniform(key, \n",
    "                           shape=(n_solutions, 2), \n",
    "                           minval=0, \n",
    "                           maxval=10000\n",
    "                          )"
   ]
  },
  {
   "cell_type": "code",
   "execution_count": 123,
   "id": "0bf3f5f9-d24a-46f5-be0c-d621f640bf84",
   "metadata": {
    "tags": []
   },
   "outputs": [],
   "source": [
    "function_values = w37(solutions[:, 0], solutions[:, 1])\n",
    "ranking = jnp.argsort(function_values)\n",
    "ranked_solutions = solutions[ranking]"
   ]
  },
  {
   "cell_type": "code",
   "execution_count": 124,
   "id": "46f2f19d-a746-46bb-888f-d57e67cd6fca",
   "metadata": {
    "tags": []
   },
   "outputs": [],
   "source": [
    "def select(solutions, function, select_n=50):\n",
    "    \"\"\"Roulette selection for minimization objective.\"\"\"\n",
    "    function_values = function(solutions[:, 0], solutions[:, 1])\n",
    "    ranking = jnp.argsort(function_values) # increasing order\n",
    "    ranked_solutions = solutions[ranking]\n",
    "\n",
    "    normalized_vals = 1 - function_values / function_values.max()\n",
    "    probabilities = normalized_vals / normalized_vals.sum()\n",
    "\n",
    "    best_solutions = random.choice(key,\n",
    "                                   ranked_solutions,\n",
    "                                   shape=(select_n, 1),\n",
    "                                   replace=False,\n",
    "                                   p=probabilities,\n",
    "                                  )\n",
    "    best_solutions = jnp.squeeze(best_solutions)\n",
    "    \n",
    "    return best_solutions"
   ]
  },
  {
   "cell_type": "code",
   "execution_count": 125,
   "id": "26df868f-351c-49b6-a33b-347b0a9520f0",
   "metadata": {
    "tags": []
   },
   "outputs": [
    {
     "data": {
      "text/plain": [
       "Array([[7658.21   , 3157.3057 ],\n",
       "       [3895.564  , 6025.1465 ],\n",
       "       [ 572.1009 , 5664.7397 ],\n",
       "       [ 108.31356,  158.4649 ],\n",
       "       [6918.415  , 2089.776  ],\n",
       "       [1080.3342 , 1526.9185 ],\n",
       "       [3775.5789 , 2050.4963 ],\n",
       "       [4155.166  , 9554.985  ],\n",
       "       [2019.0657 , 4163.854  ],\n",
       "       [4952.711  , 2390.3489 ],\n",
       "       [9506.117  ,  593.81964],\n",
       "       [4439.764  ,  590.1802 ],\n",
       "       [8011.371  , 7690.2485 ],\n",
       "       [4779.3867 , 7992.337  ],\n",
       "       [5446.888  , 4574.9355 ],\n",
       "       [7156.154  , 9973.806  ],\n",
       "       [3705.207  , 2204.379  ],\n",
       "       [1493.9058 ,  125.29135],\n",
       "       [8044.618  , 9929.033  ],\n",
       "       [9290.986  , 3344.8755 ],\n",
       "       [6191.2896 , 6918.5493 ],\n",
       "       [ 616.00806, 5295.392  ],\n",
       "       [9331.724  , 4821.674  ],\n",
       "       [5311.6963 , 8604.162  ],\n",
       "       [9714.916  , 4077.934  ],\n",
       "       [4061.9863 , 9442.0205 ],\n",
       "       [3634.882  , 6205.1416 ],\n",
       "       [2520.8604 , 7921.7803 ],\n",
       "       [5731.71   , 6610.215  ],\n",
       "       [1334.0557 , 9797.383  ],\n",
       "       [5893.5786 , 6540.786  ],\n",
       "       [3669.1057 ,  675.45056],\n",
       "       [7974.2705 , 1905.8455 ],\n",
       "       [8632.649  ,  779.8314 ],\n",
       "       [9496.435  , 3798.0188 ],\n",
       "       [3552.196  , 5357.268  ],\n",
       "       [7847.7026 , 7279.841  ],\n",
       "       [2022.7659 , 8661.423  ],\n",
       "       [6046.6494 , 3256.5762 ],\n",
       "       [5964.1646 , 1253.2473 ],\n",
       "       [ 975.2405 , 9715.362  ],\n",
       "       [4741.445  , 5349.991  ],\n",
       "       [5653.3896 , 2701.3076 ],\n",
       "       [6618.5522 , 3212.092  ],\n",
       "       [4249.8086 , 7382.3857 ],\n",
       "       [8911.884  , 6784.413  ],\n",
       "       [8618.488  , 5392.8936 ],\n",
       "       [2152.09   , 1190.0997 ],\n",
       "       [5241.1567 , 3128.83   ],\n",
       "       [6356.5884 , 6488.6377 ]], dtype=float32)"
      ]
     },
     "execution_count": 125,
     "metadata": {},
     "output_type": "execute_result"
    }
   ],
   "source": [
    "select(solutions, w37)"
   ]
  },
  {
   "cell_type": "code",
   "execution_count": 126,
   "id": "5a81a8d0-e605-4c8f-b0e7-f58f5a49ed8a",
   "metadata": {
    "tags": []
   },
   "outputs": [
    {
     "data": {
      "text/plain": [
       "Array([[ 616.00806,  779.8314 ],\n",
       "       [8618.488  , 8604.162  ],\n",
       "       [7156.154  , 3212.092  ],\n",
       "       [3669.1057 , 3256.5762 ],\n",
       "       [4155.166  , 3798.0188 ],\n",
       "       [4952.711  , 3344.8755 ],\n",
       "       [8044.618  , 7690.2485 ],\n",
       "       [4249.8086 ,  125.29135],\n",
       "       [9331.724  , 2390.3489 ],\n",
       "       [3552.196  , 4574.9355 ],\n",
       "       [5311.6963 , 1253.2473 ],\n",
       "       [ 108.31356, 9715.362  ],\n",
       "       [5964.1646 , 1905.8455 ],\n",
       "       [ 975.2405 , 3157.3057 ],\n",
       "       [6046.6494 , 3128.83   ],\n",
       "       [6356.5884 , 6488.6377 ],\n",
       "       [3705.207  , 1190.0997 ],\n",
       "       [2152.09   ,  158.4649 ],\n",
       "       [6918.415  , 1526.9185 ],\n",
       "       [8011.371  , 2050.4963 ],\n",
       "       [2019.0657 , 7992.337  ],\n",
       "       [7847.7026 , 9929.033  ],\n",
       "       [5893.5786 , 2204.379  ],\n",
       "       [4439.764  , 6540.786  ],\n",
       "       [9506.117  , 5349.991  ],\n",
       "       [1080.3342 , 2701.3076 ],\n",
       "       [1493.9058 , 2089.776  ],\n",
       "       [8911.884  , 4821.674  ],\n",
       "       [7658.21   , 7279.841  ],\n",
       "       [6191.2896 , 5357.268  ],\n",
       "       [9714.916  , 5392.8936 ],\n",
       "       [5241.1567 , 6205.1416 ],\n",
       "       [5446.888  , 7921.7803 ],\n",
       "       [4741.445  , 5664.7397 ],\n",
       "       [8632.649  , 9554.985  ],\n",
       "       [9290.986  , 8661.423  ],\n",
       "       [3634.882  , 9973.806  ],\n",
       "       [9496.435  , 6610.215  ],\n",
       "       [6618.5522 , 4163.854  ],\n",
       "       [5731.71   , 5295.392  ],\n",
       "       [5653.3896 , 6784.413  ],\n",
       "       [4779.3867 ,  593.81964],\n",
       "       [3775.5789 , 6918.5493 ],\n",
       "       [ 572.1009 , 4077.934  ],\n",
       "       [1334.0557 , 9797.383  ],\n",
       "       [3895.564  , 6025.1465 ],\n",
       "       [7974.2705 ,  675.45056],\n",
       "       [4061.9863 ,  590.1802 ],\n",
       "       [2022.7659 , 7382.3857 ],\n",
       "       [2520.8604 , 9442.0205 ]], dtype=float32)"
      ]
     },
     "execution_count": 126,
     "metadata": {},
     "output_type": "execute_result"
    }
   ],
   "source": [
    "best_solutions = select(solutions, w37)\n",
    "random.permutation(key,\n",
    "                   best_solutions,\n",
    "                   independent=True\n",
    "                  )"
   ]
  },
  {
   "cell_type": "code",
   "execution_count": 127,
   "id": "20d71bac-4be2-49ee-b565-bfefe3192667",
   "metadata": {
    "tags": []
   },
   "outputs": [],
   "source": [
    "def crossover(solutions, generation_size=100):\n",
    "    permutations = jnp.array(jnp.meshgrid(solutions[:, 0], solutions[:, 1])).T.reshape(-1, 2)\n",
    "    new_generation = random.choice(key,\n",
    "                                   permutations,\n",
    "                                   shape=(100, 1),\n",
    "                                   replace=False,\n",
    "                                  )\n",
    "    new_generation = jnp.squeeze(new_generation)\n",
    "    return new_generation"
   ]
  },
  {
   "cell_type": "code",
   "execution_count": 128,
   "id": "e1ec9ba5-1440-4ffa-8037-a944f3b6852a",
   "metadata": {
    "tags": []
   },
   "outputs": [
    {
     "data": {
      "text/plain": [
       "(100,)"
      ]
     },
     "execution_count": 128,
     "metadata": {},
     "output_type": "execute_result"
    }
   ],
   "source": [
    "solutions[:, 0].shape"
   ]
  },
  {
   "cell_type": "code",
   "execution_count": 129,
   "id": "c3418eb1-11e0-42b3-8b25-84475c6f3a31",
   "metadata": {
    "tags": []
   },
   "outputs": [],
   "source": [
    "permutations = jnp.array(jnp.meshgrid(solutions[:, 0], solutions[:, 1])).T.reshape(-1, 2)\n",
    "new_generation = random.choice(key,\n",
    "                               permutations,\n",
    "                               shape=(100, 1),\n",
    "                               replace=False,\n",
    "                              )\n",
    "new_generation = jnp.squeeze(new_generation)"
   ]
  },
  {
   "cell_type": "code",
   "execution_count": 130,
   "id": "3d0a28e4-fdf6-4b74-9857-6342546cb292",
   "metadata": {
    "tags": []
   },
   "outputs": [],
   "source": [
    "def mutate(solutions, probability=0.01):\n",
    "    \"\"\"Implements mutations to create a new generation.\"\"\"\n",
    "    probabilities = random.uniform(key, shape=(solutions.shape[0], 2))\n",
    "    mutated_solutions = solutions * -1\n",
    "    new_solutions = jnp.where(probabilities > probability, \n",
    "                                  solutions, \n",
    "                                  mutated_solutions)\n",
    "    return new_solutions"
   ]
  },
  {
   "cell_type": "code",
   "execution_count": 143,
   "id": "6156c75c-b37c-41eb-99f6-156a942310b2",
   "metadata": {
    "tags": []
   },
   "outputs": [],
   "source": [
    "def evolution(objective,\n",
    "              generation_size=1000,\n",
    "              limit_generations=5, \n",
    "              mutation_p=0.01,\n",
    "              select_n=50,\n",
    "              move_to_next=2, \n",
    "              seed=123\n",
    "             ):\n",
    "    # populate\n",
    "    key = random.PRNGKey(seed)\n",
    "    solutions = random.uniform(key, \n",
    "                               shape=(generation_size, 2), \n",
    "                               minval=0, \n",
    "                               maxval=10000\n",
    "                          )\n",
    "    \n",
    "    for generation in range(limit_generations):\n",
    "        selected_solutions = select(solutions, objective)\n",
    "        \n",
    "        # best_solution = objective(selected_solutions[0, 0], selected_solutions[0, 1])\n",
    "        # if best_solution >= fitness_limit:\n",
    "        #     break\n",
    "        \n",
    "        best_parents = selected_solutions[:move_to_next]\n",
    "        \n",
    "        offspring = crossover(selected_solutions, generation_size - move_to_next)\n",
    "        new_generation = mutate(offspring, mutation_p)\n",
    "        \n",
    "        solutions = jnp.append(new_generation, best_parents, axis=0)\n",
    "        \n",
    "    function_values = objective(solutions[:, 0], solutions[:, 1])\n",
    "    ranking = jnp.argsort(function_values) # increasing order\n",
    "    ranked_solutions = solutions[ranking] \n",
    "    \n",
    "    return ranked_solutions[0]"
   ]
  },
  {
   "cell_type": "code",
   "execution_count": 142,
   "id": "e7abfa61-a8fb-4478-8c02-cb4ab69b6f1a",
   "metadata": {
    "tags": []
   },
   "outputs": [
    {
     "name": "stdout",
     "output_type": "stream",
     "text": [
      "(102, 2)\n",
      "(102, 2)\n",
      "(102, 2)\n",
      "(102, 2)\n",
      "(102, 2)\n"
     ]
    },
    {
     "data": {
      "text/plain": [
       "Array([ 757.7789, 4222.5063], dtype=float32)"
      ]
     },
     "execution_count": 142,
     "metadata": {},
     "output_type": "execute_result"
    }
   ],
   "source": [
    "evolution(w37)"
   ]
  },
  {
   "cell_type": "code",
   "execution_count": null,
   "id": "6170bb7e-32dc-45db-8a68-811e9e8f55d7",
   "metadata": {},
   "outputs": [],
   "source": []
  }
 ],
 "metadata": {
  "kernelspec": {
   "display_name": "Python 3 (ipykernel)",
   "language": "python",
   "name": "python3"
  },
  "language_info": {
   "codemirror_mode": {
    "name": "ipython",
    "version": 3
   },
   "file_extension": ".py",
   "mimetype": "text/x-python",
   "name": "python",
   "nbconvert_exporter": "python",
   "pygments_lexer": "ipython3",
   "version": "3.9.12"
  }
 },
 "nbformat": 4,
 "nbformat_minor": 5
}
